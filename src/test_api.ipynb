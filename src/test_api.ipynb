{
 "cells": [
  {
   "cell_type": "markdown",
   "metadata": {},
   "source": [
    "Use this file to test the API and get results"
   ]
  },
  {
   "cell_type": "code",
   "execution_count": 20,
   "metadata": {},
   "outputs": [],
   "source": [
    "import pandas as pd\n",
    "from reddit import MyRedditAPI\n",
    "from processing import EntityRecognition"
   ]
  },
  {
   "cell_type": "markdown",
   "metadata": {},
   "source": [
    "Step 1: Reddit Login Credentials"
   ]
  },
  {
   "cell_type": "code",
   "execution_count": 21,
   "metadata": {},
   "outputs": [],
   "source": [
    "# Reddit Credentials\n",
    "CLIENT_ID = '9UWAhmuriIJQX2y_UzY8jA'\n",
    "SECRET = 'KGpQBQd3WGqBoUWGEg9yr7042w_bSw'\n",
    "USERNAME = 'EarthEmbarrassed4301'\n",
    "PASSWORD = 'Ripplechips@480'\n",
    "USER_AGENT = 'MYAGENT' # String can be anything you like :)"
   ]
  },
  {
   "cell_type": "markdown",
   "metadata": {},
   "source": [
    "Step 2: Create a Reddit API Session"
   ]
  },
  {
   "cell_type": "code",
   "execution_count": 22,
   "metadata": {},
   "outputs": [],
   "source": [
    "session = MyRedditAPI(CLIENT_ID, SECRET, USERNAME, PASSWORD, USER_AGENT)"
   ]
  },
  {
   "cell_type": "markdown",
   "metadata": {},
   "source": [
    "Step 3: Get recent posts from reddit containing \"Wagner Group\""
   ]
  },
  {
   "cell_type": "code",
   "execution_count": 25,
   "metadata": {},
   "outputs": [],
   "source": [
    "wagner_df = session.search_posts(\n",
    "    query='Wagner Group',\n",
    "    subreddit='all',\n",
    "    limit=250,\n",
    "    sort='new'\n",
    ")"
   ]
  },
  {
   "cell_type": "markdown",
   "metadata": {},
   "source": [
    "Step 4: Get locations, organizations, and names from post titles"
   ]
  },
  {
   "cell_type": "code",
   "execution_count": 5,
   "metadata": {},
   "outputs": [],
   "source": [
    "# create an instance of the EntityRecognition class for the wagner data on the title column\n",
    "wagner_entities = EntityRecognition(wagner_df, 'title')\n",
    "\n",
    "wagner_df['locations'] = wagner_entities.get_gpe()      # Get Locations\n",
    "wagner_df['organizations'] = wagner_entities.get_org()  # Get Organizations\n",
    "wagner_df['names'] = wagner_entities.get_person()       # Get Names of People"
   ]
  },
  {
   "cell_type": "code",
   "execution_count": 19,
   "metadata": {},
   "outputs": [
    {
     "data": {
      "text/plain": [
       "                       126\n",
       "russia                  56\n",
       "ukraine                 48\n",
       "us                      16\n",
       "mali                     4\n",
       "cuba                     3\n",
       "bakhmut                  3\n",
       "france                   3\n",
       "nicaragua                2\n",
       "atlantic alliance        2\n",
       "zambia                   2\n",
       "horlivka                 2\n",
       "germany                  1\n",
       "uk                       1\n",
       "afghanistan              1\n",
       "c. african republic      1\n",
       "kalashnikovs             1\n",
       "m23                      1\n",
       "central africa           1\n",
       "kadyrovites              1\n",
       "pakistan                 1\n",
       "moscow                   1\n",
       "progozhin                1\n",
       "Name: value, dtype: int64"
      ]
     },
     "execution_count": 19,
     "metadata": {},
     "output_type": "execute_result"
    }
   ],
   "source": [
    "(pd.melt(wagner_df['locations'].str.split(',', expand=True))['value']\n",
    " .str.lstrip(' ')\n",
    " .dropna()\n",
    " .reset_index(drop=True)\n",
    " .value_counts()\n",
    ")"
   ]
  },
  {
   "cell_type": "code",
   "execution_count": null,
   "metadata": {},
   "outputs": [],
   "source": []
  }
 ],
 "metadata": {
  "kernelspec": {
   "display_name": "Python 3.10.6 ('wagner-group-data-collection-env')",
   "language": "python",
   "name": "python3"
  },
  "language_info": {
   "codemirror_mode": {
    "name": "ipython",
    "version": 3
   },
   "file_extension": ".py",
   "mimetype": "text/x-python",
   "name": "python",
   "nbconvert_exporter": "python",
   "pygments_lexer": "ipython3",
   "version": "3.10.6"
  },
  "orig_nbformat": 4,
  "vscode": {
   "interpreter": {
    "hash": "5681c331747cb00c54453e34b6cb5a08d18f8874a31a52c6e34fee5c1690d35a"
   }
  }
 },
 "nbformat": 4,
 "nbformat_minor": 2
}
